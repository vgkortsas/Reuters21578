{
 "cells": [
  {
   "cell_type": "code",
   "execution_count": 2,
   "metadata": {
    "collapsed": false,
    "deletable": true,
    "editable": true
   },
   "outputs": [
    {
     "name": "stdout",
     "output_type": "stream",
     "text": [
      "Requirement already satisfied: lxml in /Users/vasileios-mariosgkortsas/anaconda3/envs/dog-project/lib/python3.5/site-packages\n",
      "\u001b[33mYou are using pip version 9.0.1, however version 22.0.4 is available.\n",
      "You should consider upgrading via the 'pip install --upgrade pip' command.\u001b[0m\n",
      "Requirement already satisfied: bs4 in /Users/vasileios-mariosgkortsas/anaconda3/envs/dog-project/lib/python3.5/site-packages\n",
      "Requirement already satisfied: beautifulsoup4 in /Users/vasileios-mariosgkortsas/anaconda3/envs/dog-project/lib/python3.5/site-packages (from bs4)\n",
      "\u001b[33mYou are using pip version 9.0.1, however version 22.0.4 is available.\n",
      "You should consider upgrading via the 'pip install --upgrade pip' command.\u001b[0m\n",
      "[nltk_data] Downloading package stopwords to /Users/vasileios-\n",
      "[nltk_data]     mariosgkortsas/nltk_data...\n",
      "[nltk_data]   Package stopwords is already up-to-date!\n",
      "[nltk_data] Downloading package wordnet to /Users/vasileios-\n",
      "[nltk_data]     mariosgkortsas/nltk_data...\n",
      "[nltk_data]   Package wordnet is already up-to-date!\n"
     ]
    },
    {
     "name": "stderr",
     "output_type": "stream",
     "text": [
      "/Users/vasileios-mariosgkortsas/anaconda3/envs/dog-project/lib/python3.5/site-packages/pandas/compat/_optional.py:106: UserWarning: Pandas requires version '1.2.1' or newer of 'bottleneck' (version '1.2.0' currently installed).\n",
      "  warnings.warn(msg, UserWarning)\n"
     ]
    }
   ],
   "source": [
    "!pip install lxml\n",
    "!pip install bs4\n",
    "from bs4 import BeautifulSoup\n",
    "\n",
    "import re\n",
    "import xml.sax.saxutils as saxutils\n",
    "\n",
    "import nltk\n",
    "nltk.download('stopwords')\n",
    "nltk.download('wordnet')\n",
    "from nltk.corpus import stopwords\n",
    "from nltk.tokenize import word_tokenize\n",
    "from nltk.stem import WordNetLemmatizer\n",
    "\n",
    "import pandas as pd\n",
    "import numpy as np\n",
    "\n",
    "# from keras.models import Sequential\n",
    "# from keras.layers.embeddings import Embedding\n",
    "# from keras.layers.recurrent import GRU\n",
    "# from keras.preprocessing.text import Tokenizer\n",
    "# from keras.preprocessing.sequence import pad_sequences\n",
    "# from keras.layers import Dense, Dropout\n",
    "# from keras.callbacks import ModelCheckpoint\n",
    "\n",
    "import matplotlib.pyplot as plt\n",
    "plt.rcParams.update({'font.size': 20})\n",
    "import matplotlib.ticker as mtick\n",
    "\n",
    "from sklearn.model_selection import train_test_split\n",
    "from sklearn.feature_extraction.text import TfidfVectorizer\n",
    "from sklearn.svm import LinearSVC\n",
    "from sklearn.svm import SVC\n",
    "from sklearn.multiclass import OneVsRestClassifier\n",
    "from sklearn.metrics import f1_score, precision_score, recall_score\n",
    "from sklearn.linear_model import LogisticRegression\n",
    "from sklearn.model_selection import GridSearchCV\n",
    "from sklearn.neighbors import KNeighborsClassifier\n",
    "from sklearn.ensemble import RandomForestClassifier\n",
    "from sklearn.metrics import classification_report\n",
    "#from sklearn.metrics import confusion_matrix, ConfusionMatrixDisplay\n",
    "#from sklearn.metrics import plot_confusion_matrix\n",
    "from sklearn.metrics import confusion_matrix\n",
    "\n",
    "import itertools\n",
    "\n",
    "# use GPU\n",
    "# import tensorflow as tf\n",
    "# physical_devices = tf.config.experimental.list_physical_devices('GPU')\n",
    "# tf.config.experimental.set_visible_devices(physical_devices[2], 'GPU')"
   ]
  },
  {
   "cell_type": "code",
   "execution_count": 3,
   "metadata": {
    "collapsed": false,
    "deletable": true,
    "editable": true
   },
   "outputs": [
    {
     "name": "stdout",
     "output_type": "stream",
     "text": [
      "/Users/vasileios-mariosgkortsas/anaconda3/envs/dog-project/bin/python\n"
     ]
    }
   ],
   "source": [
    "import sys\n",
    "print(sys.executable)"
   ]
  },
  {
   "cell_type": "markdown",
   "metadata": {
    "deletable": true,
    "editable": true
   },
   "source": [
    "# Functions that help to extract classes"
   ]
  },
  {
   "cell_type": "code",
   "execution_count": 4,
   "metadata": {
    "collapsed": true,
    "deletable": true,
    "editable": true
   },
   "outputs": [],
   "source": [
    "ver='GRU_1_layer_TFIDF'\n",
    "\n",
    "def remove_tags(text):\n",
    "    return re.sub('<[^<]+>', '', text).strip() # reference: https://stackoverflow.com/questions/12823568/python-strip-xml-tags-from-document\n",
    "\n",
    "folder = './reuters21578/'\n",
    "\n",
    "# files that have the classes\n",
    "# we save the files in a dictionary where key is the category (i.e. topics, places, people, organizations, exchanges)\n",
    "# each categoty has different classes (labels)\n",
    "classes_files = {\n",
    "    'Topics_': 'all-topics-strings.lc.txt',\n",
    "    'Places_': 'all-places-strings.lc.txt',\n",
    "    'People_': 'all-people-strings.lc.txt',\n",
    "    'Organizations_': 'all-orgs-strings.lc.txt',\n",
    "    'Exchanges_': 'all-exchanges-strings.lc.txt'\n",
    "}\n",
    "\n",
    "\n",
    "# we save the categories and the classes and initiate (i.e 0) a counter, \n",
    "# which measures the number of documents thet each class appears. \n",
    "# We will use that for our dataframe\n",
    "classes = []\n",
    "\n",
    "for key in classes_files.keys():\n",
    "    with open(folder + classes_files[key], 'r') as file:\n",
    "        for class_ in file.readlines():\n",
    "            classes.append([key[:-1], key.lower() + class_.strip().lower(), 0])  # strip() to remove the leading and trailing characters\n",
    "  \n",
    "# create a dataframe\n",
    "classes_df = pd.DataFrame(data=classes, columns=['category', 'class','number_of_documents'])\n",
    "\n",
    "# for each document we read the classes \n",
    "def create_doc_classes(doc_):\n",
    "    \n",
    "    topics = doc_.topics.contents\n",
    "    places = doc_.places.contents\n",
    "    people = doc_.people.contents\n",
    "    orgs = doc_.orgs.contents\n",
    "    exchanges = doc_.exchanges.contents\n",
    "        \n",
    "    doc_classes=[]\n",
    "    for topic in topics:\n",
    "        doc_classes.append('topics_' + remove_tags(str(topic)))\n",
    "                \n",
    "    for place in places:\n",
    "        doc_classes.append('places_' + remove_tags(str(place)))\n",
    "                \n",
    "    for person in people:\n",
    "        doc_classes.append('people_' + remove_tags(str(person)))\n",
    "                \n",
    "    for org in orgs:\n",
    "        doc_classes.append('organizations_' + remove_tags(str(org)))\n",
    "                \n",
    "    for exchange in exchanges:\n",
    "        doc_classes.append('exchanges_' + remove_tags(str(exchange)))\n",
    "                \n",
    "    return doc_classes\n",
    "   \n",
    "    \n",
    "# populate the dataframe, i.e. count in how many documents each class appears\n",
    "def populate_df(classes_):\n",
    "    for class_ in classes_:\n",
    "        idx = classes_df[classes_df['class'] == class_].index[0]\n",
    "        count = classes_df._get_value(idx, 'number_of_documents')\n",
    "        classes_df._set_value(idx, 'number_of_documents', count+1)\n",
    "        \n",
    "\n",
    "# since each document can belong to multiple classes, we have a multi-class, multi-label classification problem, \n",
    "# so we need to do multi-hot encoding\n",
    "def multi_hot_encoding(classes_, target_classes):\n",
    "    multi_hot_vector = np.zeros(len(target_classes)).astype(np.float32)\n",
    "    \n",
    "    for i in range(len(target_classes)):\n",
    "        # we set as 1 the element of the vector which corresponds to one of the document classes\n",
    "        if target_classes[i] in classes_:\n",
    "            multi_hot_vector[i] = 1.0\n",
    "    \n",
    "    return multi_hot_vector"
   ]
  },
  {
   "cell_type": "markdown",
   "metadata": {
    "deletable": true,
    "editable": true
   },
   "source": [
    "# Process the documents to extract features and classes"
   ]
  },
  {
   "cell_type": "code",
   "execution_count": 5,
   "metadata": {
    "collapsed": false,
    "deletable": true,
    "editable": true
   },
   "outputs": [
    {
     "name": "stdout",
     "output_type": "stream",
     "text": [
      "file: reut2-000.sgm\n",
      "file: reut2-001.sgm\n",
      "file: reut2-002.sgm\n",
      "file: reut2-003.sgm\n",
      "file: reut2-004.sgm\n",
      "file: reut2-005.sgm\n",
      "file: reut2-006.sgm\n",
      "file: reut2-007.sgm\n",
      "file: reut2-008.sgm\n",
      "file: reut2-009.sgm\n",
      "file: reut2-010.sgm\n",
      "file: reut2-011.sgm\n",
      "file: reut2-012.sgm\n",
      "file: reut2-013.sgm\n",
      "file: reut2-014.sgm\n",
      "file: reut2-015.sgm\n",
      "file: reut2-016.sgm\n",
      "file: reut2-017.sgm\n",
      "file: reut2-018.sgm\n",
      "file: reut2-019.sgm\n",
      "file: reut2-020.sgm\n",
      "file: reut2-021.sgm\n"
     ]
    }
   ],
   "source": [
    "# top 20 classes\n",
    "selected_classes = ['places_usa', 'topics_earn', 'topics_acq', 'places_uk', 'places_japan', 'places_canada', 'topics_money-fx',\n",
    " 'topics_crude', 'topics_grain', 'places_west-germany', 'topics_trade', 'topics_interest',\n",
    " 'places_france', 'organizations_ec', 'places_brazil', 'topics_wheat', 'topics_ship', 'places_australia',\n",
    " 'topics_corn', 'places_china']\n",
    "\n",
    "# top 40 classes\n",
    "\n",
    "# selected_classes = ['places_usa', 'topics_earn', 'topics_acq', 'places_uk', 'places_japan', 'places_canada', 'topics_money-fx',\n",
    "#  'topics_crude', 'topics_grain', 'places_west-germany', 'topics_trade', 'topics_interest',\n",
    "#  'places_france', 'organizations_ec', 'places_brazil', 'topics_wheat', 'topics_ship', 'places_australia',\n",
    "#  'topics_corn', 'places_china', 'topics_dlr', 'places_ussr', 'places_switzerland', 'places_belgium', 'places_netherlands', \n",
    "# 'topics_oilseed', 'topics_money-supply', 'topics_sugar', 'places_iran', 'places_italy', 'people_james-baker', 'people_reagan',\n",
    "# 'topics_gnp', 'topics_coffee', 'places_hong-kong', 'topics_veg-oil', 'places_philippines', 'topics_gold', \n",
    "# 'topics_nat-gas', 'places_taiwan']\n",
    "\n",
    "doc_X = []\n",
    "doc_Y = []\n",
    "\n",
    "# read the SGML files\n",
    "number_of_sgml_files = 22\n",
    "for i in range(number_of_sgml_files):\n",
    "    file_name = 'reut2-{}.sgm'.format(str(i).zfill(3))\n",
    "    print('file: %s' % file_name)\n",
    "    \n",
    "    with open(folder + file_name, 'rb') as file:\n",
    "        content = BeautifulSoup(file.read().lower(), \"lxml\")\n",
    "        \n",
    "        for doc in content('reuters'):\n",
    "            \n",
    "            # Step 1: Extract the text from the document\n",
    "            doc_body=str(doc('text'))\n",
    "            # Step 2: Remove tags\n",
    "            doc_body=remove_tags(str(doc('text')[0]))\n",
    "            # Step 3: remove 'reuter'\n",
    "            doc_body=doc_body.replace('reuter', '')\n",
    "            # Step 4: Remove the next line character\n",
    "            doc_body=doc_body.replace('\\n','')\n",
    "            # Step 5: remove the end of text character, i.e. &#3\n",
    "            doc_body = doc_body.replace('&#3','')\n",
    "            # Step 6: remove escape characters like &lt, &gt\n",
    "            doc_body = saxutils.unescape(doc_body)\n",
    "        \n",
    "            doc_X.append(doc_body)\n",
    "\n",
    "            doc_classes=create_doc_classes(doc)\n",
    "            populate_df(doc_classes)\n",
    "            doc_Y.append(multi_hot_encoding(doc_classes, selected_classes))"
   ]
  },
  {
   "cell_type": "markdown",
   "metadata": {
    "deletable": true,
    "editable": true
   },
   "source": [
    "# Study and choose the output classes\n",
    "\n",
    "## Distribution of the number of documents per class"
   ]
  },
  {
   "cell_type": "code",
   "execution_count": 6,
   "metadata": {
    "collapsed": false,
    "deletable": true,
    "editable": true
   },
   "outputs": [
    {
     "data": {
      "image/png": "[encoded data removed]",
      "text/plain": [
       "<matplotlib.figure.Figure at 0x7ffe204f8710>"
      ]
     },
     "metadata": {},
     "output_type": "display_data"
    }
   ],
   "source": [
    "all_classes=range(0,len(classes_df['number_of_documents']))  # 672 classes in total\n",
    "values = list(classes_df['number_of_documents'])\n",
    "\n",
    "plt.figure(figsize=(10, 6))\n",
    "plt.bar(list(all_classes), values, color ='maroon', width = 0.4,ec='blue')\n",
    "plt.xlabel('class',fontsize=20)\n",
    "plt.ylabel('number of documents',fontsize=20)\n",
    "plt.show()"
   ]
  },
  {
   "cell_type": "markdown",
   "metadata": {
    "deletable": true,
    "editable": true
   },
   "source": [
    "## Since the classes are imbalanced, we classify the documents to the ones that appear most of the time\n",
    "## Top 20 classes appear in 72% of the documents"
   ]
  },
  {
   "cell_type": "code",
   "execution_count": 7,
   "metadata": {
    "collapsed": false,
    "deletable": true,
    "editable": true
   },
   "outputs": [
    {
     "data": {
      "text/html": [
       "<div>\n",
       "<style scoped>\n",
       "    .dataframe tbody tr th:only-of-type {\n",
       "        vertical-align: middle;\n",
       "    }\n",
       "\n",
       "    .dataframe tbody tr th {\n",
       "        vertical-align: top;\n",
       "    }\n",
       "\n",
       "    .dataframe thead th {\n",
       "        text-align: right;\n",
       "    }\n",
       "</style>\n",
       "<table border=\"1\" class=\"dataframe\">\n",
       "  <thead>\n",
       "    <tr style=\"text-align: right;\">\n",
       "      <th></th>\n",
       "      <th>category</th>\n",
       "      <th>class</th>\n",
       "      <th>number_of_documents</th>\n",
       "    </tr>\n",
       "  </thead>\n",
       "  <tbody>\n",
       "    <tr>\n",
       "      <th>523</th>\n",
       "      <td>Places</td>\n",
       "      <td>places_usa</td>\n",
       "      <td>12542</td>\n",
       "    </tr>\n",
       "    <tr>\n",
       "      <th>572</th>\n",
       "      <td>Topics</td>\n",
       "      <td>topics_earn</td>\n",
       "      <td>3987</td>\n",
       "    </tr>\n",
       "    <tr>\n",
       "      <th>537</th>\n",
       "      <td>Topics</td>\n",
       "      <td>topics_acq</td>\n",
       "      <td>2448</td>\n",
       "    </tr>\n",
       "    <tr>\n",
       "      <th>520</th>\n",
       "      <td>Places</td>\n",
       "      <td>places_uk</td>\n",
       "      <td>1489</td>\n",
       "    </tr>\n",
       "    <tr>\n",
       "      <th>446</th>\n",
       "      <td>Places</td>\n",
       "      <td>places_japan</td>\n",
       "      <td>1138</td>\n",
       "    </tr>\n",
       "    <tr>\n",
       "      <th>393</th>\n",
       "      <td>Places</td>\n",
       "      <td>places_canada</td>\n",
       "      <td>1104</td>\n",
       "    </tr>\n",
       "    <tr>\n",
       "      <th>610</th>\n",
       "      <td>Topics</td>\n",
       "      <td>topics_money-fx</td>\n",
       "      <td>801</td>\n",
       "    </tr>\n",
       "    <tr>\n",
       "      <th>565</th>\n",
       "      <td>Topics</td>\n",
       "      <td>topics_crude</td>\n",
       "      <td>634</td>\n",
       "    </tr>\n",
       "    <tr>\n",
       "      <th>582</th>\n",
       "      <td>Topics</td>\n",
       "      <td>topics_grain</td>\n",
       "      <td>628</td>\n",
       "    </tr>\n",
       "    <tr>\n",
       "      <th>529</th>\n",
       "      <td>Places</td>\n",
       "      <td>places_west-germany</td>\n",
       "      <td>567</td>\n",
       "    </tr>\n",
       "    <tr>\n",
       "      <th>663</th>\n",
       "      <td>Topics</td>\n",
       "      <td>topics_trade</td>\n",
       "      <td>552</td>\n",
       "    </tr>\n",
       "    <tr>\n",
       "      <th>592</th>\n",
       "      <td>Topics</td>\n",
       "      <td>topics_interest</td>\n",
       "      <td>513</td>\n",
       "    </tr>\n",
       "    <tr>\n",
       "      <th>418</th>\n",
       "      <td>Places</td>\n",
       "      <td>places_france</td>\n",
       "      <td>469</td>\n",
       "    </tr>\n",
       "    <tr>\n",
       "      <th>10</th>\n",
       "      <td>Organizations</td>\n",
       "      <td>organizations_ec</td>\n",
       "      <td>349</td>\n",
       "    </tr>\n",
       "    <tr>\n",
       "      <th>385</th>\n",
       "      <td>Places</td>\n",
       "      <td>places_brazil</td>\n",
       "      <td>332</td>\n",
       "    </tr>\n",
       "    <tr>\n",
       "      <th>667</th>\n",
       "      <td>Topics</td>\n",
       "      <td>topics_wheat</td>\n",
       "      <td>306</td>\n",
       "    </tr>\n",
       "    <tr>\n",
       "      <th>645</th>\n",
       "      <td>Topics</td>\n",
       "      <td>topics_ship</td>\n",
       "      <td>305</td>\n",
       "    </tr>\n",
       "    <tr>\n",
       "      <th>372</th>\n",
       "      <td>Places</td>\n",
       "      <td>places_australia</td>\n",
       "      <td>270</td>\n",
       "    </tr>\n",
       "    <tr>\n",
       "      <th>556</th>\n",
       "      <td>Topics</td>\n",
       "      <td>topics_corn</td>\n",
       "      <td>254</td>\n",
       "    </tr>\n",
       "    <tr>\n",
       "      <th>399</th>\n",
       "      <td>Places</td>\n",
       "      <td>places_china</td>\n",
       "      <td>223</td>\n",
       "    </tr>\n",
       "  </tbody>\n",
       "</table>\n",
       "</div>"
      ],
      "text/plain": [
       "          category                class  number_of_documents\n",
       "523         Places           places_usa                12542\n",
       "572         Topics          topics_earn                 3987\n",
       "537         Topics           topics_acq                 2448\n",
       "520         Places            places_uk                 1489\n",
       "446         Places         places_japan                 1138\n",
       "393         Places        places_canada                 1104\n",
       "610         Topics      topics_money-fx                  801\n",
       "565         Topics         topics_crude                  634\n",
       "582         Topics         topics_grain                  628\n",
       "529         Places  places_west-germany                  567\n",
       "663         Topics         topics_trade                  552\n",
       "592         Topics      topics_interest                  513\n",
       "418         Places        places_france                  469\n",
       "10   Organizations     organizations_ec                  349\n",
       "385         Places        places_brazil                  332\n",
       "667         Topics         topics_wheat                  306\n",
       "645         Topics          topics_ship                  305\n",
       "372         Places     places_australia                  270\n",
       "556         Topics          topics_corn                  254\n",
       "399         Places         places_china                  223"
      ]
     },
     "execution_count": 7,
     "metadata": {},
     "output_type": "execute_result"
    }
   ],
   "source": [
    "num_classes=20\n",
    "classes_df_sorted=classes_df.sort_values(by='number_of_documents', ascending=False)\n",
    "classes_df_sorted.head(num_classes)"
   ]
  },
  {
   "cell_type": "code",
   "execution_count": 7,
   "metadata": {
    "collapsed": false,
    "deletable": true,
    "editable": true
   },
   "outputs": [
    {
     "ename": "AttributeError",
     "evalue": "module 'matplotlib.ticker' has no attribute 'PercentFormatter'",
     "output_type": "error",
     "traceback": [
      "\u001b[0;31m---------------------------------------------------------------------------\u001b[0m",
      "\u001b[0;31mAttributeError\u001b[0m                            Traceback (most recent call last)",
      "\u001b[0;32m<ipython-input-7-c515ee9f11db>\u001b[0m in \u001b[0;36m<module>\u001b[0;34m()\u001b[0m\n\u001b[1;32m     15\u001b[0m \u001b[0max2\u001b[0m\u001b[0;34m.\u001b[0m\u001b[0mplot\u001b[0m\u001b[0;34m(\u001b[0m\u001b[0mlist\u001b[0m\u001b[0;34m(\u001b[0m\u001b[0mtop_classes\u001b[0m\u001b[0;34m)\u001b[0m\u001b[0;34m,\u001b[0m \u001b[0mnp\u001b[0m\u001b[0;34m.\u001b[0m\u001b[0mcumsum\u001b[0m\u001b[0;34m(\u001b[0m\u001b[0mclasses_df_sorted\u001b[0m\u001b[0;34m[\u001b[0m\u001b[0;34m'number_of_documents'\u001b[0m\u001b[0;34m]\u001b[0m\u001b[0;34m[\u001b[0m\u001b[0;36m0\u001b[0m\u001b[0;34m:\u001b[0m\u001b[0mnum_classes\u001b[0m\u001b[0;34m]\u001b[0m\u001b[0;34m)\u001b[0m\u001b[0;34m/\u001b[0m\u001b[0mnp\u001b[0m\u001b[0;34m.\u001b[0m\u001b[0msum\u001b[0m\u001b[0;34m(\u001b[0m\u001b[0mclasses_df_sorted\u001b[0m\u001b[0;34m[\u001b[0m\u001b[0;34m'number_of_documents'\u001b[0m\u001b[0;34m]\u001b[0m\u001b[0;34m)\u001b[0m\u001b[0;34m,\u001b[0m\u001b[0;34m'r-o'\u001b[0m\u001b[0;34m)\u001b[0m \u001b[0;31m# I did not multiply by 100 because of the last command\u001b[0m\u001b[0;34m\u001b[0m\u001b[0m\n\u001b[1;32m     16\u001b[0m \u001b[0max2\u001b[0m\u001b[0;34m.\u001b[0m\u001b[0mset_ylabel\u001b[0m\u001b[0;34m(\u001b[0m\u001b[0;34m'cumulative'\u001b[0m\u001b[0;34m)\u001b[0m\u001b[0;34m\u001b[0m\u001b[0m\n\u001b[0;32m---> 17\u001b[0;31m \u001b[0max2\u001b[0m\u001b[0;34m.\u001b[0m\u001b[0myaxis\u001b[0m\u001b[0;34m.\u001b[0m\u001b[0mset_major_formatter\u001b[0m\u001b[0;34m(\u001b[0m\u001b[0mmtick\u001b[0m\u001b[0;34m.\u001b[0m\u001b[0mPercentFormatter\u001b[0m\u001b[0;34m(\u001b[0m\u001b[0mxmax\u001b[0m\u001b[0;34m=\u001b[0m\u001b[0;36m1\u001b[0m\u001b[0;34m,\u001b[0m \u001b[0mdecimals\u001b[0m\u001b[0;34m=\u001b[0m\u001b[0;32mNone\u001b[0m\u001b[0;34m,\u001b[0m \u001b[0msymbol\u001b[0m\u001b[0;34m=\u001b[0m\u001b[0;34m'%'\u001b[0m\u001b[0;34m,\u001b[0m \u001b[0mis_latex\u001b[0m\u001b[0;34m=\u001b[0m\u001b[0;32mFalse\u001b[0m\u001b[0;34m)\u001b[0m\u001b[0;34m)\u001b[0m\u001b[0;34m\u001b[0m\u001b[0m\n\u001b[0m\u001b[1;32m     18\u001b[0m \u001b[0max2\u001b[0m\u001b[0;34m.\u001b[0m\u001b[0mset_ylim\u001b[0m\u001b[0;34m(\u001b[0m\u001b[0;34m[\u001b[0m\u001b[0;36m0\u001b[0m\u001b[0;34m,\u001b[0m\u001b[0;36m1\u001b[0m\u001b[0;34m]\u001b[0m\u001b[0;34m)\u001b[0m\u001b[0;34m\u001b[0m\u001b[0m\n\u001b[1;32m     19\u001b[0m \u001b[0;31m#ax2.set_xticklabels(top_classes_names,rotation=90)\u001b[0m\u001b[0;34m\u001b[0m\u001b[0;34m\u001b[0m\u001b[0m\n",
      "\u001b[0;31mAttributeError\u001b[0m: module 'matplotlib.ticker' has no attribute 'PercentFormatter'"
     ]
    }
   ],
   "source": [
    "top_classes=range(0,len(classes_df_sorted['number_of_documents'][0:num_classes])) \n",
    "top_classes_names=list(classes_df_sorted['class'])[0:num_classes]\n",
    "\n",
    "values = list(classes_df_sorted['number_of_documents'][0:num_classes])\n",
    "\n",
    "fig,ax=plt.subplots(figsize=(20, 6))\n",
    "ax.bar(list(top_classes), values, color ='maroon', width = 0.4,ec='blue')\n",
    "ax.set_ylabel('number of documents')\n",
    "ax.set_xlabel('class')\n",
    "#ax.set_xticks(list(top_classes), top_classes_names)\n",
    "#ax.set_xticklabels(top_classes_names,rotation=90)\n",
    "plt.xticks(list(top_classes), top_classes_names, rotation=90)\n",
    "\n",
    "ax2=ax.twinx()\n",
    "ax2.plot(list(top_classes), np.cumsum(classes_df_sorted['number_of_documents'][0:num_classes])/np.sum(classes_df_sorted['number_of_documents']),'r-o') # I did not multiply by 100 because of the last command\n",
    "ax2.set_ylabel('cumulative')\n",
    "ax2.yaxis.set_major_formatter(mtick.PercentFormatter(xmax=1, decimals=None, symbol='%', is_latex=False))\n",
    "ax2.set_ylim([0,1])\n",
    "#ax2.set_xticklabels(top_classes_names,rotation=90)"
   ]
  },
  {
   "cell_type": "markdown",
   "metadata": {
    "deletable": true,
    "editable": true
   },
   "source": [
    "# Process the input features\n",
    "\n",
    "## Clean the features by keeping the alphanumeric values, doing lemmatization and removing the stopwords"
   ]
  },
  {
   "cell_type": "code",
   "execution_count": 8,
   "metadata": {
    "collapsed": true,
    "deletable": true,
    "editable": true
   },
   "outputs": [],
   "source": [
    "keep_alphanumeric_chars = re.compile(\"[^A-Za-z0-9 ]+\")\n",
    "lemmatizer = WordNetLemmatizer()\n",
    "stop_words = set(stopwords.words(\"english\"))\n",
    "\n",
    "def clean(r):\n",
    "    r = r.lower().replace(\"<br />\", \" \")\n",
    "    r = re.sub(keep_alphanumeric_chars, \"\", r.lower())\n",
    "    \n",
    "    words = word_tokenize(r)\n",
    "    clean_sequence = []\n",
    "    for word in words:\n",
    "        # lematize\n",
    "        word = lemmatizer.lemmatize(word)\n",
    "        \n",
    "        # remove stop words\n",
    "        if word not in stop_words:\n",
    "            clean_sequence.append(word)\n",
    "    return \" \".join(clean_sequence)\n"
   ]
  },
  {
   "cell_type": "markdown",
   "metadata": {
    "deletable": true,
    "editable": true
   },
   "source": [
    "### Features and classes for a specific document"
   ]
  },
  {
   "cell_type": "code",
   "execution_count": 9,
   "metadata": {
    "collapsed": false,
    "deletable": true,
    "editable": true
   },
   "outputs": [
    {
     "name": "stdout",
     "output_type": "stream",
     "text": [
      "houston oil ho reserve study completed houston feb 26 houston oil trust said independentpetroleum engineer completed annual study estimatesthe trust future net revenue total proved reserve at88 mln dlrs discounted present value reserve at64 mln dlrs based estimate trust said may moneyavailable cash distribution unitholders theremainder year said estimate reflect decrease 44 pct innet reserve revenue 39 pct discounted present valuecompared study made 1985\n",
      "\n",
      "[1. 0. 0. 0. 0. 0. 0. 1. 0. 0. 0. 0. 0. 0. 0. 0. 0. 0. 0. 0.]\n"
     ]
    }
   ],
   "source": [
    "mmm=210\n",
    "print(clean(doc_X[mmm]))\n",
    "print()\n",
    "print(doc_Y[mmm])"
   ]
  },
  {
   "cell_type": "code",
   "execution_count": 10,
   "metadata": {
    "collapsed": true,
    "deletable": true,
    "editable": true
   },
   "outputs": [],
   "source": [
    "X = []\n",
    "for i, doc in enumerate(doc_X):\n",
    "    X.append(clean(doc))\n",
    "    \n",
    "Y = np.array(doc_Y)"
   ]
  },
  {
   "cell_type": "markdown",
   "metadata": {
    "deletable": true,
    "editable": true
   },
   "source": [
    "## TF-IDF vectorizer"
   ]
  },
  {
   "cell_type": "code",
   "execution_count": 11,
   "metadata": {
    "collapsed": true,
    "deletable": true,
    "editable": true
   },
   "outputs": [],
   "source": [
    "vectorizer = TfidfVectorizer()\n",
    "X_tdidf = vectorizer.fit_transform(X)"
   ]
  },
  {
   "cell_type": "code",
   "execution_count": 12,
   "metadata": {
    "collapsed": true,
    "deletable": true,
    "editable": true
   },
   "outputs": [],
   "source": [
    "X_train, X_test, Y_train, Y_test = train_test_split(X_tdidf, Y, test_size=0.2)"
   ]
  },
  {
   "cell_type": "code",
   "execution_count": 13,
   "metadata": {
    "collapsed": true,
    "deletable": true,
    "editable": true
   },
   "outputs": [],
   "source": [
    "def grid_search_fun(classifier, parameters):\n",
    "    clf = GridSearchCV(estimator = classifier,\n",
    "                               param_grid = parameters,\n",
    "                               scoring = 'f1_micro',\n",
    "                               verbose=0,\n",
    "                               cv=5)\n",
    "    clf.fit(X_train, Y_train)\n",
    "    print (\"best f1-weighted score: {0}\".format(clf.best_score_))\n",
    "    print (\"best parameters: {0}\".format(clf.best_params_))\n",
    "    print()\n",
    "    print(\"Grid scores on validation set:\")\n",
    "    print()\n",
    "    \n",
    "    means = clf.cv_results_[\"mean_test_score\"]\n",
    "    stds = clf.cv_results_[\"std_test_score\"]\n",
    "    for mean, std, params in zip(means, stds, clf.cv_results_[\"params\"]):\n",
    "        print(\"%0.6f (+/-%0.06f) for %r\" % (mean, std * 2, params))\n",
    "    print()\n",
    "    print(\"Detailed classification report:\")\n",
    "    Y_pred = clf.predict(X_test)\n",
    "    print(classification_report(Y_test, Y_pred, target_names=selected_classes))\n"
   ]
  },
  {
   "cell_type": "code",
   "execution_count": 16,
   "metadata": {
    "collapsed": false,
    "deletable": true,
    "editable": true
   },
   "outputs": [],
   "source": [
    "def plot_confusion_matrix_(cm, classes,\n",
    "                          normalize=None,\n",
    "                          title=None,\n",
    "                          cmap=plt.cm.Reds):\n",
    "\n",
    "    plt.imshow(cm, interpolation='nearest', cmap=cmap)\n",
    "    plt.title(title,fontsize=14)\n",
    "    #plt.colorbar()\n",
    "    tick_marks = np.arange(len(classes))\n",
    "    plt.xticks(tick_marks, classes, rotation=45, fontsize=14)\n",
    "    plt.yticks(tick_marks, classes,fontsize=14)\n",
    "\n",
    "    if normalize:\n",
    "        cm = cm.astype('float') / cm.sum(axis=1)[:, np.newaxis]\n",
    "        #print(\"Normalized confusion matrix\")\n",
    "    #else:\n",
    "        #print('Confusion matrix, without normalization')\n",
    "                   \n",
    "    fmt = '.2f' if normalize else 'd'       \n",
    "    thresh = cm.max() / 2.\n",
    "    for i, j in itertools.product(range(cm.shape[0]), range(cm.shape[1])):\n",
    "        plt.text(j, i, format(cm[i, j], fmt),\n",
    "                 ha=\"center\", va=\"center\",\n",
    "                 color=\"red\" if cm[i, j] > thresh else \"black\")\n",
    "\n",
    "    plt.tight_layout()\n",
    "    #plt.ylabel('True label')\n",
    "    #plt.xlabel('Predicted label')\n",
    "    \n",
    "    \n",
    "def reshape_confusion_matrix(cf):\n",
    "    res_cf=np.zeros((2,2),dtype=int)\n",
    "    res_cf[0][0]=cf[1][1]\n",
    "    res_cf[0][1]=cf[1][0]\n",
    "    res_cf[1][0]=cf[0][1]\n",
    "    res_cf[1][1]=cf[0][0]\n",
    "    \n",
    "    return res_cf\n",
    "\n",
    "\n",
    "def create_conf_mat_dict(Y_pred, Y_test):\n",
    "\n",
    "    conf_mat_dict={}\n",
    "\n",
    "    for label_col in range(len(selected_classes)):\n",
    "        y_true_label = Y_test[:, label_col]\n",
    "        y_pred_label = Y_pred[:, label_col]\n",
    "        conf_mat_dict[selected_classes[label_col]] = confusion_matrix(y_true=y_true_label, y_pred=y_pred_label)\n",
    "        \n",
    "    return conf_mat_dict"
   ]
  },
  {
   "cell_type": "code",
   "execution_count": 17,
   "metadata": {
    "collapsed": false,
    "deletable": true,
    "editable": true
   },
   "outputs": [],
   "source": [
    "def plot_confusion_matrices(Y_pred, Y_test, normalize=None):\n",
    "\n",
    "    plt.figure(figsize=(20, 10))\n",
    "\n",
    "    conf_mat_dict=create_conf_mat_dict(Y_pred, Y_test)\n",
    "\n",
    "    for kkk in range(len(selected_classes)):\n",
    "        cf=conf_mat_dict[selected_classes[kkk]]\n",
    "        conf_mat=reshape_confusion_matrix(cf)\n",
    "        plt.subplot(4,5,kkk+1)\n",
    "        plot_confusion_matrix_(conf_mat,classes=['True', 'False'], normalize=normalize, title=selected_classes[kkk])\n",
    "        plt.subplots_adjust(left=0.125,\n",
    "                    bottom=0.1, \n",
    "                    right=0.9, \n",
    "                    top=1.5, \n",
    "                    wspace=0.3, \n",
    "                    hspace=0.4)\n",
    "    \n",
    "        if kkk>=15 and kkk<=19:\n",
    "            plt.xlabel('predicted',fontsize=20)\n",
    "        \n",
    "        if kkk%5==0:\n",
    "            plt.ylabel('actual',fontsize=20)\n",
    "        \n",
    "    plt.show()"
   ]
  },
  {
   "cell_type": "markdown",
   "metadata": {
    "deletable": true,
    "editable": true
   },
   "source": [
    "# Logistic regression"
   ]
  },
  {
   "cell_type": "code",
   "execution_count": 16,
   "metadata": {
    "collapsed": false,
    "deletable": true,
    "editable": true
   },
   "outputs": [
    {
     "name": "stdout",
     "output_type": "stream",
     "text": [
      "best f1-weighted score: 0.8819321402576719\n",
      "best parameters: {'estimator__penalty': 'l1', 'estimator__C': 35}\n",
      "\n",
      "Grid scores on validation set:\n",
      "\n",
      "0.881585 (+/-0.003883) for {'estimator__penalty': 'l1', 'estimator__C': 5}\n",
      "0.857983 (+/-0.005342) for {'estimator__penalty': 'l2', 'estimator__C': 5}\n",
      "0.881761 (+/-0.002207) for {'estimator__penalty': 'l1', 'estimator__C': 15}\n",
      "0.870300 (+/-0.004643) for {'estimator__penalty': 'l2', 'estimator__C': 15}\n",
      "0.881583 (+/-0.003023) for {'estimator__penalty': 'l1', 'estimator__C': 25}\n",
      "0.873379 (+/-0.006301) for {'estimator__penalty': 'l2', 'estimator__C': 25}\n",
      "0.881932 (+/-0.003671) for {'estimator__penalty': 'l1', 'estimator__C': 35}\n",
      "0.875091 (+/-0.006812) for {'estimator__penalty': 'l2', 'estimator__C': 35}\n",
      "0.881518 (+/-0.003100) for {'estimator__penalty': 'l1', 'estimator__C': 45}\n",
      "0.875860 (+/-0.006605) for {'estimator__penalty': 'l2', 'estimator__C': 45}\n",
      "0.881715 (+/-0.002954) for {'estimator__penalty': 'l1', 'estimator__C': 50}\n",
      "0.876136 (+/-0.007129) for {'estimator__penalty': 'l2', 'estimator__C': 50}\n",
      "\n",
      "Detailed classification report:\n",
      "                     precision    recall  f1-score   support\n",
      "\n",
      "         places_usa       0.94      0.94      0.94      2469\n",
      "        topics_earn       0.93      0.90      0.91       805\n",
      "         topics_acq       0.85      0.82      0.83       491\n",
      "          places_uk       0.85      0.81      0.83       303\n",
      "       places_japan       0.94      0.85      0.89       232\n",
      "      places_canada       0.90      0.83      0.86       238\n",
      "    topics_money-fx       0.89      0.64      0.74       171\n",
      "       topics_crude       0.86      0.76      0.80       111\n",
      "       topics_grain       0.87      0.79      0.83       131\n",
      "places_west-germany       0.91      0.70      0.79       124\n",
      "       topics_trade       0.78      0.66      0.71       131\n",
      "    topics_interest       0.74      0.71      0.73        91\n",
      "      places_france       0.80      0.76      0.78        86\n",
      "   organizations_ec       0.86      0.78      0.82        64\n",
      "      places_brazil       0.85      0.87      0.86        77\n",
      "       topics_wheat       0.82      0.76      0.79        67\n",
      "        topics_ship       0.97      0.81      0.88        70\n",
      "   places_australia       0.81      0.64      0.71        55\n",
      "        topics_corn       0.91      0.75      0.82        53\n",
      "       places_china       0.85      0.80      0.83        41\n",
      "\n",
      "        avg / total       0.90      0.86      0.88      5810\n",
      "\n"
     ]
    }
   ],
   "source": [
    "parameters = [{'estimator__penalty' : ['l1','l2'], \n",
    "               'estimator__C': [5, 15, 25, 35, 45, 50]}]\n",
    "classifier = OneVsRestClassifier(LogisticRegression())\n",
    "grid_search_fun(classifier,parameters)\n",
    "\n",
    "\n"
   ]
  },
  {
   "cell_type": "code",
   "execution_count": 19,
   "metadata": {
    "collapsed": false,
    "deletable": true,
    "editable": true
   },
   "outputs": [
    {
     "name": "stdout",
     "output_type": "stream",
     "text": [
      "Precision: 0.9042, Recall: 0.8689, F1-measure: 0.8862\n"
     ]
    },
    {
     "data": {
      "text/plain": [
       "20.59238886833191"
      ]
     },
     "execution_count": 19,
     "metadata": {},
     "output_type": "execute_result"
    }
   ],
   "source": [
    "import time\n",
    "\n",
    "start_time= time.time()\n",
    "\n",
    "classifier_LR = OneVsRestClassifier(LogisticRegression(penalty='l1',C=35))\n",
    "classifier_LR.fit(X_train, Y_train)\n",
    " \n",
    "Y_pred_LR = classifier_LR.predict(X_test)\n",
    "\n",
    "precision_LR = precision_score(Y_test, Y_pred_LR,\n",
    "average='micro')\n",
    "recall_LR = recall_score(Y_test, Y_pred_LR,\n",
    "average='micro')\n",
    "f1_LR = f1_score(Y_test, Y_pred_LR, average='micro')\n",
    " \n",
    "print(\"Precision: {:.4f}, Recall: {:.4f}, F1-measure: {:.4f}\".format(precision_LR, recall_LR, f1_LR))\n",
    "\n",
    "time.time()-start_time"
   ]
  },
  {
   "cell_type": "code",
   "execution_count": 14,
   "metadata": {
    "collapsed": false,
    "deletable": true,
    "editable": true
   },
   "outputs": [
    {
     "name": "stdout",
     "output_type": "stream",
     "text": [
      "                     precision    recall  f1-score   support\n",
      "\n",
      "         places_usa       0.94      0.94      0.94      2470\n",
      "        topics_earn       0.94      0.89      0.91       812\n",
      "         topics_acq       0.84      0.80      0.82       489\n",
      "          places_uk       0.88      0.78      0.83       317\n",
      "       places_japan       0.93      0.82      0.87       228\n",
      "      places_canada       0.87      0.83      0.85       231\n",
      "    topics_money-fx       0.77      0.74      0.76       137\n",
      "       topics_crude       0.90      0.86      0.88       128\n",
      "       topics_grain       0.91      0.84      0.87       128\n",
      "places_west-germany       0.86      0.71      0.78       115\n",
      "       topics_trade       0.76      0.68      0.72       111\n",
      "    topics_interest       0.78      0.70      0.74        96\n",
      "      places_france       0.77      0.70      0.74        91\n",
      "   organizations_ec       0.87      0.78      0.82        74\n",
      "      places_brazil       0.87      0.76      0.81        62\n",
      "       topics_wheat       0.87      0.84      0.86        57\n",
      "        topics_ship       0.87      0.81      0.84        75\n",
      "   places_australia       0.87      0.87      0.87        61\n",
      "        topics_corn       0.88      0.76      0.81        66\n",
      "       places_china       0.93      0.82      0.87        50\n",
      "\n",
      "        avg / total       0.90      0.87      0.88      5798\n",
      "\n"
     ]
    }
   ],
   "source": [
    "print(classification_report(Y_test, Y_pred_LR, target_names=selected_classes))"
   ]
  },
  {
   "cell_type": "code",
   "execution_count": 18,
   "metadata": {
    "collapsed": false,
    "deletable": true,
    "editable": true
   },
   "outputs": [
    {
     "data": {
      "image/png": "[encoded data removed]",
      "text/plain": [
       "<matplotlib.figure.Figure at 0x7ffe0aacd748>"
      ]
     },
     "metadata": {},
     "output_type": "display_data"
    }
   ],
   "source": [
    "plot_confusion_matrices(Y_pred_LR, Y_test, normalize=False)"
   ]
  }
 ],
 "metadata": {
  "kernelspec": {
   "display_name": "Python 3",
   "language": "python",
   "name": "python3"
  },
  "language_info": {
   "codemirror_mode": {
    "name": "ipython",
    "version": 3
   },
   "file_extension": ".py",
   "mimetype": "text/x-python",
   "name": "python",
   "nbconvert_exporter": "python",
   "pygments_lexer": "ipython3",
   "version": "3.5.3"
  }
 },
 "nbformat": 4,
 "nbformat_minor": 2
}
